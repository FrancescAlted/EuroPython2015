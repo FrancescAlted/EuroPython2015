{
 "cells": [
  {
   "cell_type": "markdown",
   "metadata": {},
   "source": [
    "#Querying Out-of-Core datasets"
   ]
  },
  {
   "cell_type": "markdown",
   "metadata": {},
   "source": [
    "> Objectives:\n",
    "> * Compare queries of tabular data for **on-disk** containers\n",
    "> * Compare sizes and times for those"
   ]
  },
  {
   "cell_type": "code",
   "execution_count": 1,
   "metadata": {
    "collapsed": false
   },
   "outputs": [
    {
     "name": "stdout",
     "output_type": "stream",
     "text": [
      "In [1] used 0.031 MiB RAM in 0.002s, peaked 0.000 MiB above current, total RAM usage 28.902 MiB\n"
     ]
    }
   ],
   "source": [
    "from ipython_memwatcher import MemWatcher\n",
    "mw = MemWatcher()\n",
    "mw.start_watching_memory()"
   ]
  },
  {
   "cell_type": "markdown",
   "metadata": {},
   "source": [
    "## Load movielens datasets in pandas DataFrames"
   ]
  },
  {
   "cell_type": "code",
   "execution_count": 1,
   "metadata": {
    "collapsed": false
   },
   "outputs": [],
   "source": [
    "import os\n",
    "dset = 'movielens-1m'\n",
    "fdata = os.path.join(dset, 'ratings.dat.gz')\n",
    "fitem = os.path.join(dset, 'movies.dat')"
   ]
  },
  {
   "cell_type": "code",
   "execution_count": 2,
   "metadata": {
    "collapsed": false
   },
   "outputs": [],
   "source": [
    "# Import CSV files via pandas\n",
    "import pandas as pd\n",
    "# pass in column names for each CSV\n",
    "r_cols = ['user_id', 'movie_id', 'rating', 'unix_timestamp']\n",
    "ratings = pd.read_csv(fdata, sep=';', names=r_cols, compression='gzip')\n",
    "\n",
    "m_cols = ['movie_id', 'title', 'genres']\n",
    "movies = pd.read_csv(fitem, sep=';', names=m_cols,\n",
    "                     dtype={'title': \"S100\", 'genres': \"S100\"})"
   ]
  },
  {
   "cell_type": "code",
   "execution_count": 4,
   "metadata": {
    "collapsed": false
   },
   "outputs": [
    {
     "name": "stdout",
     "output_type": "stream",
     "text": [
      "In [4] used 117.125 MiB RAM in 4.921s, peaked 122.703 MiB above current, total RAM usage 224.109 MiB\n"
     ]
    }
   ],
   "source": [
    "# Store movies and ratings in 2 separate tables in SQLite\n",
    "sqlite_norm = \"movielens-norm.sqlite\"\n",
    "if os.path.exists(sqlite_norm):\n",
    "    os.unlink(sqlite_norm)\n",
    "import sqlite3\n",
    "conn = sqlite3.connect(sqlite_norm)\n",
    "conn.text_factory = str   # Shut up problems with Unicode\n",
    "ratings.to_sql(\"ratings\", conn)\n",
    "movies.to_sql(\"movies\", conn)\n",
    "conn.close()"
   ]
  },
  {
   "cell_type": "code",
   "execution_count": 5,
   "metadata": {
    "collapsed": false
   },
   "outputs": [
    {
     "name": "stdout",
     "output_type": "stream",
     "text": [
      "In [5] used 85.145 MiB RAM in 0.175s, peaked 0.000 MiB above current, total RAM usage 309.254 MiB\n"
     ]
    }
   ],
   "source": [
    "# create one merged DataFrame\n",
    "lens = pd.merge(movies, ratings)"
   ]
  },
  {
   "cell_type": "code",
   "execution_count": 96,
   "metadata": {
    "collapsed": false
   },
   "outputs": [
    {
     "name": "stdout",
     "output_type": "stream",
     "text": [
      "<class 'pandas.core.frame.DataFrame'>\n",
      "Int64Index: 1000209 entries, 0 to 1000208\n",
      "Data columns (total 6 columns):\n",
      "movie_id          1000209 non-null int64\n",
      "title             1000209 non-null object\n",
      "genres            1000209 non-null object\n",
      "user_id           1000209 non-null int64\n",
      "rating            1000209 non-null int64\n",
      "unix_timestamp    1000209 non-null int64\n",
      "dtypes: int64(4), object(2)\n",
      "memory usage: 53.4+ MB\n",
      "In [96] used 0.000 MiB RAM in 0.175s, peaked 0.000 MiB above current, total RAM usage 415.676 MiB\n"
     ]
    }
   ],
   "source": [
    "lens.info()"
   ]
  },
  {
   "cell_type": "code",
   "execution_count": 6,
   "metadata": {
    "collapsed": false
   },
   "outputs": [
    {
     "name": "stdout",
     "output_type": "stream",
     "text": [
      "In [6] used 54.512 MiB RAM in 5.843s, peaked 168.918 MiB above current, total RAM usage 363.766 MiB\n"
     ]
    }
   ],
   "source": [
    "# Store lens denormalized in 1 table in SQLite\n",
    "sqlite_denorm = \"movielens-denorm.sqlite\"\n",
    "if os.path.exists(sqlite_denorm):\n",
    "    os.unlink(sqlite_denorm)\n",
    "conn_denorm = sqlite3.connect(sqlite_denorm)\n",
    "conn_denorm.text_factory = str   # Shut up problems with Unicode\n",
    "lens.to_sql(\"lens\", conn_denorm)\n",
    "conn_denorm.close()"
   ]
  },
  {
   "cell_type": "code",
   "execution_count": 7,
   "metadata": {
    "collapsed": false
   },
   "outputs": [
    {
     "name": "stdout",
     "output_type": "stream",
     "text": [
      "In [7] used 0.000 MiB RAM in 0.002s, peaked 0.000 MiB above current, total RAM usage 363.766 MiB\n"
     ]
    }
   ],
   "source": [
    "del movies, ratings"
   ]
  },
  {
   "cell_type": "code",
   "execution_count": 8,
   "metadata": {
    "collapsed": false
   },
   "outputs": [
    {
     "name": "stdout",
     "output_type": "stream",
     "text": [
      "CPU times: user 106 ms, sys: 4.13 ms, total: 110 ms\n",
      "Wall time: 122 ms\n",
      "In [8] used 22.859 MiB RAM in 0.126s, peaked 0.000 MiB above current, total RAM usage 386.625 MiB\n"
     ]
    }
   ],
   "source": [
    "%time result = lens.query(\"(title == 'Tom and Huck (1995)') & (rating == 5)\")['user_id']"
   ]
  },
  {
   "cell_type": "code",
   "execution_count": 9,
   "metadata": {
    "collapsed": false
   },
   "outputs": [
    {
     "data": {
      "text/plain": [
       "5121      75\n",
       "5164    3842\n",
       "5187    6031\n",
       "Name: user_id, dtype: int64"
      ]
     },
     "execution_count": 9,
     "metadata": {},
     "output_type": "execute_result"
    },
    {
     "name": "stdout",
     "output_type": "stream",
     "text": [
      "In [9] used 0.000 MiB RAM in 0.018s, peaked 0.000 MiB above current, total RAM usage 386.625 MiB\n"
     ]
    }
   ],
   "source": [
    "# keep the run-time for reference\n",
    "qtime_pandas_mem = mw.measurements.time_delta\n",
    "# ...and print the result (for reference too)\n",
    "result"
   ]
  },
  {
   "cell_type": "markdown",
   "metadata": {},
   "source": [
    "## Querying on-disk data with SQLite (relational database)"
   ]
  },
  {
   "cell_type": "code",
   "execution_count": 10,
   "metadata": {
    "collapsed": false
   },
   "outputs": [
    {
     "name": "stdout",
     "output_type": "stream",
     "text": [
      "In [10] used 0.000 MiB RAM in 0.003s, peaked 0.000 MiB above current, total RAM usage 386.625 MiB\n"
     ]
    }
   ],
   "source": [
    "# Execute the query with the de-normalized SQLite database\n",
    "conn = sqlite3.connect(sqlite_denorm)\n",
    "c = conn.cursor()"
   ]
  },
  {
   "cell_type": "code",
   "execution_count": 11,
   "metadata": {
    "collapsed": false
   },
   "outputs": [
    {
     "name": "stdout",
     "output_type": "stream",
     "text": [
      "CPU times: user 192 ms, sys: 36.1 ms, total: 228 ms\n",
      "Wall time: 226 ms\n",
      "In [11] used 0.004 MiB RAM in 0.231s, peaked 0.000 MiB above current, total RAM usage 386.629 MiB\n"
     ]
    }
   ],
   "source": [
    "q = \"select user_id from lens where title == 'Tom and Huck (1995)' and rating == 5\"\n",
    "%time result = [r for r in c.execute(q)]"
   ]
  },
  {
   "cell_type": "code",
   "execution_count": 12,
   "metadata": {
    "collapsed": false
   },
   "outputs": [
    {
     "data": {
      "text/plain": [
       "[(75,), (3842,), (6031,)]"
      ]
     },
     "execution_count": 12,
     "metadata": {},
     "output_type": "execute_result"
    },
    {
     "name": "stdout",
     "output_type": "stream",
     "text": [
      "In [12] used 0.000 MiB RAM in 0.007s, peaked 0.000 MiB above current, total RAM usage 386.629 MiB\n"
     ]
    }
   ],
   "source": [
    "# keep the run-time for reference\n",
    "qtime_sqlite_denorm = mw.measurements.time_delta\n",
    "# ...and print the result (for reference too)\n",
    "result"
   ]
  },
  {
   "cell_type": "code",
   "execution_count": 13,
   "metadata": {
    "collapsed": false,
    "scrolled": true
   },
   "outputs": [
    {
     "name": "stdout",
     "output_type": "stream",
     "text": [
      "In [13] used 0.000 MiB RAM in 0.004s, peaked 0.000 MiB above current, total RAM usage 386.629 MiB\n"
     ]
    }
   ],
   "source": [
    "# Execute the query with the normalized SQLite database\n",
    "conn = sqlite3.connect(sqlite_norm)\n",
    "c = conn.cursor()"
   ]
  },
  {
   "cell_type": "code",
   "execution_count": 14,
   "metadata": {
    "collapsed": false
   },
   "outputs": [
    {
     "name": "stdout",
     "output_type": "stream",
     "text": [
      "CPU times: user 2.39 s, sys: 1.34 s, total: 3.73 s\n",
      "Wall time: 3.73 s\n",
      "In [14] used 0.000 MiB RAM in 3.737s, peaked 0.000 MiB above current, total RAM usage 386.629 MiB\n"
     ]
    }
   ],
   "source": [
    "q = \"\"\"\n",
    "select ratings.user_id from movies \n",
    "INNER JOIN ratings ON movies.movie_id = ratings.movie_id\n",
    "where movies.title == 'Tom and Huck (1995)' and ratings.rating == 5\n",
    "\"\"\"\n",
    "%time result = [r for r in c.execute(q)]"
   ]
  },
  {
   "cell_type": "code",
   "execution_count": 15,
   "metadata": {
    "collapsed": false
   },
   "outputs": [
    {
     "data": {
      "text/plain": [
       "[(75,), (3842,), (6031,)]"
      ]
     },
     "execution_count": 15,
     "metadata": {},
     "output_type": "execute_result"
    },
    {
     "name": "stdout",
     "output_type": "stream",
     "text": [
      "In [15] used 0.008 MiB RAM in 0.007s, peaked 0.000 MiB above current, total RAM usage 386.637 MiB\n"
     ]
    }
   ],
   "source": [
    "# keep the run-time for reference\n",
    "qtime_sqlite_norm = mw.measurements.time_delta\n",
    "# ...and print the result (for reference too)\n",
    "result"
   ]
  },
  {
   "cell_type": "markdown",
   "metadata": {},
   "source": [
    "So in general, we see that it is much faster to query tables in denormalized form, although they take much more storage:"
   ]
  },
  {
   "cell_type": "code",
   "execution_count": 16,
   "metadata": {
    "collapsed": false
   },
   "outputs": [
    {
     "name": "stdout",
     "output_type": "stream",
     "text": [
      "78M movielens-denorm.sqlite  37M movielens-norm.sqlite\n",
      "In [16] used 0.234 MiB RAM in 0.121s, peaked 0.000 MiB above current, total RAM usage 386.871 MiB\n"
     ]
    }
   ],
   "source": [
    "!ls -sh $sqlite_norm $sqlite_denorm"
   ]
  },
  {
   "cell_type": "markdown",
   "metadata": {},
   "source": [
    "In some way, storing tables in normalized form is a kind of compression, but that comes to the cost of using more time to process queries.  Let's enter another way to compress denormalized data tables on-disk:"
   ]
  },
  {
   "cell_type": "markdown",
   "metadata": {},
   "source": [
    "## bcolz"
   ]
  },
  {
   "cell_type": "markdown",
   "metadata": {},
   "source": [
    "`bcolz` cannot only deal with data in-memory, but also on-disk exactly in the same way.  Let's try that."
   ]
  },
  {
   "cell_type": "code",
   "execution_count": 17,
   "metadata": {
    "collapsed": false,
    "scrolled": true
   },
   "outputs": [
    {
     "name": "stdout",
     "output_type": "stream",
     "text": [
      "-=-=-=-=-=-=-=-=-=-=-=-=-=-=-=-=-=-=-=-=-=-=-=-=-=-=-=-=-=-=-=-=-=-=-=-=-=-=\n",
      "bcolz version:     0.9.0\n",
      "NumPy version:     1.9.2\n",
      "Blosc version:     1.4.1 ($Date:: 2014-07-08 #$)\n",
      "Blosc compressors: ['blosclz', 'lz4', 'lz4hc', 'snappy', 'zlib']\n",
      "Numexpr version:   2.4.3\n",
      "Python version:    2.7.10 |Anaconda 2.1.0 (64-bit)| (default, May 28 2015, 17:02:03) \n",
      "[GCC 4.4.7 20120313 (Red Hat 4.4.7-1)]\n",
      "Platform:          linux2-x86_64\n",
      "Byte-ordering:     little\n",
      "Detected cores:    4\n",
      "-=-=-=-=-=-=-=-=-=-=-=-=-=-=-=-=-=-=-=-=-=-=-=-=-=-=-=-=-=-=-=-=-=-=-=-=-=-=\n",
      "In [17] used 5.680 MiB RAM in 0.106s, peaked 0.000 MiB above current, total RAM usage 392.551 MiB\n"
     ]
    }
   ],
   "source": [
    "import bcolz\n",
    "bcolz.print_versions()\n",
    "bcolz.defaults.cparams['cname'] = 'lz4'\n",
    "bcolz.defaults.cparams['clevel'] = 5\n",
    "# bcolz.set_nthreads(4)"
   ]
  },
  {
   "cell_type": "code",
   "execution_count": 18,
   "metadata": {
    "collapsed": false
   },
   "outputs": [
    {
     "name": "stdout",
     "output_type": "stream",
     "text": [
      "In [18] used 0.328 MiB RAM in 0.375s, peaked 140.605 MiB above current, total RAM usage 392.879 MiB\n"
     ]
    }
   ],
   "source": [
    "# Import a pandas DataFrame in a ctable on-disk\n",
    "bcolz_dir = \"movielens-denorm.bcolz\"\n",
    "if os.path.exists(bcolz_dir):\n",
    "    import shutil\n",
    "    shutil.rmtree(bcolz_dir)\n",
    "zlens = bcolz.ctable.fromdataframe(lens, rootdir=bcolz_dir)"
   ]
  },
  {
   "cell_type": "code",
   "execution_count": 19,
   "metadata": {
    "collapsed": false
   },
   "outputs": [
    {
     "name": "stdout",
     "output_type": "stream",
     "text": [
      "CPU times: user 80.9 ms, sys: 10.7 ms, total: 91.6 ms\n",
      "Wall time: 74 ms\n",
      "In [19] used 0.062 MiB RAM in 0.076s, peaked 0.000 MiB above current, total RAM usage 392.941 MiB\n"
     ]
    }
   ],
   "source": [
    "%time result = zlens[\"(title == 'Tom and Huck (1995)') & (rating == 5)\"]['user_id']"
   ]
  },
  {
   "cell_type": "code",
   "execution_count": 20,
   "metadata": {
    "collapsed": false
   },
   "outputs": [
    {
     "data": {
      "text/plain": [
       "array([  75, 3842, 6031])"
      ]
     },
     "execution_count": 20,
     "metadata": {},
     "output_type": "execute_result"
    },
    {
     "name": "stdout",
     "output_type": "stream",
     "text": [
      "In [20] used 0.000 MiB RAM in 0.008s, peaked 0.000 MiB above current, total RAM usage 392.941 MiB\n"
     ]
    }
   ],
   "source": [
    "# keep the run-time for reference\n",
    "qtime_bcolz = mw.measurements.time_delta\n",
    "# ...and print the result (for reference too)\n",
    "result"
   ]
  },
  {
   "cell_type": "code",
   "execution_count": 21,
   "metadata": {
    "collapsed": false
   },
   "outputs": [
    {
     "name": "stdout",
     "output_type": "stream",
     "text": [
      "CPU times: user 91.9 ms, sys: 24.8 ms, total: 117 ms\n",
      "Wall time: 84.1 ms\n",
      "In [21] used 0.000 MiB RAM in 0.088s, peaked 0.000 MiB above current, total RAM usage 392.941 MiB\n"
     ]
    }
   ],
   "source": [
    "# One can optimize the query more\n",
    "%time result = [r.user_id for r in zlens.where(\"(title == 'Tom and Huck (1995)') & (rating == 5)\", outcols=['user_id'])]"
   ]
  },
  {
   "cell_type": "code",
   "execution_count": 22,
   "metadata": {
    "collapsed": false
   },
   "outputs": [
    {
     "data": {
      "text/plain": [
       "[75, 3842, 6031]"
      ]
     },
     "execution_count": 22,
     "metadata": {},
     "output_type": "execute_result"
    },
    {
     "name": "stdout",
     "output_type": "stream",
     "text": [
      "In [22] used 0.000 MiB RAM in 0.008s, peaked 0.000 MiB above current, total RAM usage 392.941 MiB\n"
     ]
    }
   ],
   "source": [
    "# keep the run-time for reference\n",
    "qtime_bcolz_opt = mw.measurements.time_delta\n",
    "# ...and print the result (for reference too)\n",
    "result"
   ]
  },
  {
   "cell_type": "markdown",
   "metadata": {},
   "source": [
    "Let's see the space consumed on-disk:"
   ]
  },
  {
   "cell_type": "code",
   "execution_count": 23,
   "metadata": {
    "collapsed": false
   },
   "outputs": [
    {
     "name": "stdout",
     "output_type": "stream",
     "text": [
      "6,6M\tmovielens-denorm.bcolz\n",
      "In [23] used 0.000 MiB RAM in 0.127s, peaked 0.000 MiB above current, total RAM usage 392.941 MiB\n"
     ]
    }
   ],
   "source": [
    "!du -sh $bcolz_dir"
   ]
  },
  {
   "cell_type": "markdown",
   "metadata": {},
   "source": [
    "and let's compare it with the internal estimated size:"
   ]
  },
  {
   "cell_type": "code",
   "execution_count": 24,
   "metadata": {
    "collapsed": false
   },
   "outputs": [
    {
     "data": {
      "text/plain": [
       "ctable((1000209,), [('movie_id', '<i8'), ('title', 'S82'), ('genres', 'S47'), ('user_id', '<i8'), ('rating', '<i8'), ('unix_timestamp', '<i8')])\n",
       "  nbytes: 153.57 MB; cbytes: 7.89 MB; ratio: 19.45\n",
       "  cparams := cparams(clevel=5, shuffle=True, cname='lz4')\n",
       "  rootdir := 'movielens-denorm.bcolz'\n",
       "[(1, 'Toy Story (1995)', \"Animation|Children's|Comedy\", 1, 5, 978824268)\n",
       " (1, 'Toy Story (1995)', \"Animation|Children's|Comedy\", 6, 4, 978237008)\n",
       " (1, 'Toy Story (1995)', \"Animation|Children's|Comedy\", 8, 4, 978233496)\n",
       " ...,\n",
       " (3952, 'Contender, The (2000)', 'Drama|Thriller', 5837, 4, 1011902656)\n",
       " (3952, 'Contender, The (2000)', 'Drama|Thriller', 5927, 1, 979852537)\n",
       " (3952, 'Contender, The (2000)', 'Drama|Thriller', 5998, 4, 1001781044)]"
      ]
     },
     "execution_count": 24,
     "metadata": {},
     "output_type": "execute_result"
    },
    {
     "name": "stdout",
     "output_type": "stream",
     "text": [
      "In [24] used 0.016 MiB RAM in 0.011s, peaked 0.000 MiB above current, total RAM usage 392.957 MiB\n"
     ]
    }
   ],
   "source": [
    "zlens"
   ]
  },
  {
   "cell_type": "markdown",
   "metadata": {},
   "source": [
    "So, the internal estimated size is a bit higher than the actual size on-disk, which is pretty good.\n",
    "\n",
    "Another interesting fact is that the de-normalized version of the ctable takes less space than the normalized version in a relational database, and the query speed is still faster (than SQLite at least).\n",
    "\n",
    "But there are other ways to store compressed tables.  Let's visit PyTables and how it performs:"
   ]
  },
  {
   "cell_type": "markdown",
   "metadata": {},
   "source": [
    "## PyTables"
   ]
  },
  {
   "cell_type": "code",
   "execution_count": 25,
   "metadata": {
    "collapsed": false
   },
   "outputs": [
    {
     "name": "stdout",
     "output_type": "stream",
     "text": [
      "In [25] used 0.426 MiB RAM in 0.520s, peaked 0.000 MiB above current, total RAM usage 393.383 MiB\n"
     ]
    }
   ],
   "source": [
    "h5denorm = \"movielens-denorm.h5\"\n",
    "if os.path.exists(h5denorm):\n",
    "    os.unlink(h5denorm)\n",
    "zlens.tohdf5(h5denorm, nodepath='/h5lens')"
   ]
  },
  {
   "cell_type": "code",
   "execution_count": 26,
   "metadata": {
    "collapsed": false
   },
   "outputs": [
    {
     "name": "stdout",
     "output_type": "stream",
     "text": [
      "In [26] used 0.027 MiB RAM in 0.015s, peaked 0.000 MiB above current, total RAM usage 393.410 MiB\n"
     ]
    }
   ],
   "source": [
    "import tables\n",
    "h5file = tables.open_file(h5denorm)\n",
    "h5lens = h5file.root.h5lens"
   ]
  },
  {
   "cell_type": "code",
   "execution_count": 27,
   "metadata": {
    "collapsed": false
   },
   "outputs": [
    {
     "data": {
      "text/plain": [
       "/h5lens (Table(1000209,), shuffle, blosc:lz4(5)) ''\n",
       "  description := {\n",
       "  \"movie_id\": Int64Col(shape=(), dflt=0, pos=0),\n",
       "  \"title\": StringCol(itemsize=82, shape=(), dflt='', pos=1),\n",
       "  \"genres\": StringCol(itemsize=47, shape=(), dflt='', pos=2),\n",
       "  \"user_id\": Int64Col(shape=(), dflt=0, pos=3),\n",
       "  \"rating\": Int64Col(shape=(), dflt=0, pos=4),\n",
       "  \"unix_timestamp\": Int64Col(shape=(), dflt=0, pos=5)}\n",
       "  byteorder := 'little'\n",
       "  chunkshape := (407,)"
      ]
     },
     "execution_count": 27,
     "metadata": {},
     "output_type": "execute_result"
    },
    {
     "name": "stdout",
     "output_type": "stream",
     "text": [
      "In [27] used 0.004 MiB RAM in 0.007s, peaked 0.000 MiB above current, total RAM usage 393.414 MiB\n"
     ]
    }
   ],
   "source": [
    "# Let's have a look at the HDF5 table\n",
    "h5lens"
   ]
  },
  {
   "cell_type": "code",
   "execution_count": 28,
   "metadata": {
    "collapsed": false
   },
   "outputs": [
    {
     "name": "stdout",
     "output_type": "stream",
     "text": [
      "CPU times: user 272 ms, sys: 17.3 ms, total: 289 ms\n",
      "Wall time: 268 ms\n",
      "In [28] used 0.031 MiB RAM in 0.271s, peaked 0.000 MiB above current, total RAM usage 393.445 MiB\n"
     ]
    }
   ],
   "source": [
    "%time result = [r['user_id'] for r in h5lens.where(\"(title == 'Tom and Huck (1995)') & (rating == 5)\")]"
   ]
  },
  {
   "cell_type": "code",
   "execution_count": 29,
   "metadata": {
    "collapsed": false
   },
   "outputs": [
    {
     "data": {
      "text/plain": [
       "[75, 3842, 6031]"
      ]
     },
     "execution_count": 29,
     "metadata": {},
     "output_type": "execute_result"
    },
    {
     "name": "stdout",
     "output_type": "stream",
     "text": [
      "In [29] used 0.008 MiB RAM in 0.006s, peaked 0.000 MiB above current, total RAM usage 393.453 MiB\n"
     ]
    }
   ],
   "source": [
    "# keep the run-time for reference\n",
    "qtime_pytables = mw.measurements.time_delta\n",
    "# ...and print the result (for reference too)\n",
    "result"
   ]
  },
  {
   "cell_type": "markdown",
   "metadata": {
    "collapsed": false
   },
   "source": [
    "So, it seems that PyTables has a similar performance than SQLite for the queries (denormalized case).  What about the size of the HDF5 file?"
   ]
  },
  {
   "cell_type": "code",
   "execution_count": 30,
   "metadata": {
    "collapsed": false
   },
   "outputs": [
    {
     "name": "stdout",
     "output_type": "stream",
     "text": [
      "7,1M movielens-denorm.h5\n",
      "In [30] used 0.000 MiB RAM in 0.127s, peaked 0.000 MiB above current, total RAM usage 393.453 MiB\n"
     ]
    }
   ],
   "source": [
    "h5file.close()\n",
    "!ls -sh $h5denorm"
   ]
  },
  {
   "cell_type": "markdown",
   "metadata": {},
   "source": [
    "7.1 MB is very close to 6.6 MB that used bcolz (which is expected because both are using LZ4 as the compressor), and much less than .\n",
    "\n",
    "Now, pandas comes with its own interface to PyTables via the HDFStore sub-package.  Let's check that out."
   ]
  },
  {
   "cell_type": "markdown",
   "metadata": {},
   "source": [
    "## HDFStore (pandas HDF5 via PyTables)"
   ]
  },
  {
   "cell_type": "code",
   "execution_count": 31,
   "metadata": {
    "collapsed": false
   },
   "outputs": [
    {
     "name": "stdout",
     "output_type": "stream",
     "text": [
      "In [31] used 41.438 MiB RAM in 11.143s, peaked 121.527 MiB above current, total RAM usage 434.891 MiB\n"
     ]
    }
   ],
   "source": [
    "h5pandas = \"movielens-pandas.h5\"\n",
    "if os.path.exists(h5pandas):\n",
    "    os.unlink(h5pandas)\n",
    "from pandas import HDFStore\n",
    "hdf = HDFStore(h5pandas, complevel=5, complib=\"blosc:lz4\")\n",
    "hdf.put('h5lens', lens, format='table', data_columns=True)"
   ]
  },
  {
   "cell_type": "code",
   "execution_count": 32,
   "metadata": {
    "collapsed": false
   },
   "outputs": [
    {
     "name": "stdout",
     "output_type": "stream",
     "text": [
      "(1000209, 6)\n",
      "In [32] used 254.633 MiB RAM in 0.654s, peaked 42.113 MiB above current, total RAM usage 689.523 MiB\n"
     ]
    }
   ],
   "source": [
    "print hdf['h5lens'].shape"
   ]
  },
  {
   "cell_type": "code",
   "execution_count": 33,
   "metadata": {
    "collapsed": false
   },
   "outputs": [
    {
     "name": "stdout",
     "output_type": "stream",
     "text": [
      "CPU times: user 50.5 ms, sys: 28.2 ms, total: 78.7 ms\n",
      "Wall time: 81.3 ms\n"
     ]
    },
    {
     "data": {
      "text/html": [
       "<div style=\"max-height:1000px;max-width:1500px;overflow:auto;\">\n",
       "<table border=\"1\" class=\"dataframe\">\n",
       "  <thead>\n",
       "    <tr style=\"text-align: right;\">\n",
       "      <th></th>\n",
       "      <th>user_id</th>\n",
       "    </tr>\n",
       "  </thead>\n",
       "  <tbody>\n",
       "    <tr>\n",
       "      <th>5121</th>\n",
       "      <td>75</td>\n",
       "    </tr>\n",
       "    <tr>\n",
       "      <th>5164</th>\n",
       "      <td>3842</td>\n",
       "    </tr>\n",
       "    <tr>\n",
       "      <th>5187</th>\n",
       "      <td>6031</td>\n",
       "    </tr>\n",
       "  </tbody>\n",
       "</table>\n",
       "</div>"
      ],
      "text/plain": [
       "      user_id\n",
       "5121       75\n",
       "5164     3842\n",
       "5187     6031"
      ]
     },
     "execution_count": 33,
     "metadata": {},
     "output_type": "execute_result"
    },
    {
     "name": "stdout",
     "output_type": "stream",
     "text": [
      "In [33] used -275.676 MiB RAM in 0.090s, peaked 0.000 MiB above current, total RAM usage 413.848 MiB\n"
     ]
    }
   ],
   "source": [
    "%time hdf.select('h5lens', where=\"(title == 'Tom and Huck (1995)') & (rating == 5)\", columns=[\"user_id\"])"
   ]
  },
  {
   "cell_type": "code",
   "execution_count": 34,
   "metadata": {
    "collapsed": false
   },
   "outputs": [
    {
     "data": {
      "text/plain": [
       "[75, 3842, 6031]"
      ]
     },
     "execution_count": 34,
     "metadata": {},
     "output_type": "execute_result"
    },
    {
     "name": "stdout",
     "output_type": "stream",
     "text": [
      "In [34] used 0.000 MiB RAM in 0.006s, peaked 0.000 MiB above current, total RAM usage 413.848 MiB\n"
     ]
    }
   ],
   "source": [
    "# keep the run-time for reference\n",
    "qtime_pandas_hdf5 = mw.measurements.time_delta\n",
    "# ...and print the result (for reference too)\n",
    "result"
   ]
  },
  {
   "cell_type": "markdown",
   "metadata": {},
   "source": [
    "As we can see, the time is very close to the time that it takes the query on a pandas DataFrame in memory.  What about the size on-disk?"
   ]
  },
  {
   "cell_type": "code",
   "execution_count": 35,
   "metadata": {
    "collapsed": false
   },
   "outputs": [
    {
     "name": "stdout",
     "output_type": "stream",
     "text": [
      "In [35] used -0.250 MiB RAM in 0.206s, peaked 0.000 MiB above current, total RAM usage 413.598 MiB\n"
     ]
    }
   ],
   "source": [
    "hdf.close()"
   ]
  },
  {
   "cell_type": "code",
   "execution_count": 37,
   "metadata": {
    "collapsed": false
   },
   "outputs": [
    {
     "name": "stdout",
     "output_type": "stream",
     "text": [
      "13M movielens-pandas.h5\n",
      "In [37] used 0.000 MiB RAM in 0.123s, peaked 0.000 MiB above current, total RAM usage 413.703 MiB\n"
     ]
    }
   ],
   "source": [
    "!ls -sh $h5pandas"
   ]
  },
  {
   "cell_type": "markdown",
   "metadata": {},
   "source": [
    "Ok, so 13 MB is around 80% larger than a pure PyTables file with the same info (7.1 MB).  Where the overhead comes from?  Well, it turns out that pandas makes use of the indexing capabilities of PyTables automatically, so let's make PyTables to index the columns that participate in the query."
   ]
  },
  {
   "cell_type": "markdown",
   "metadata": {},
   "source": [
    "## Indexing (PyTables)"
   ]
  },
  {
   "cell_type": "code",
   "execution_count": 71,
   "metadata": {
    "collapsed": false
   },
   "outputs": [
    {
     "name": "stdout",
     "output_type": "stream",
     "text": [
      "In [71] used 0.000 MiB RAM in 0.015s, peaked 0.000 MiB above current, total RAM usage 411.598 MiB\n"
     ]
    }
   ],
   "source": [
    "## Copy the original PyTables table into another file\n",
    "h5idx = \"movielens-indexed.h5\"\n",
    "if os.path.exists(h5idx):\n",
    "    os.unlink(h5idx)\n",
    "shutil.copyfile(h5denorm, h5idx)"
   ]
  },
  {
   "cell_type": "code",
   "execution_count": 72,
   "metadata": {
    "collapsed": false
   },
   "outputs": [
    {
     "name": "stdout",
     "output_type": "stream",
     "text": [
      "In [72] used 0.000 MiB RAM in 0.005s, peaked 0.000 MiB above current, total RAM usage 411.598 MiB\n"
     ]
    }
   ],
   "source": [
    "# Open the new file in 'a'ppend mode\n",
    "h5i = tables.open_file(h5idx, mode=\"a\")"
   ]
  },
  {
   "cell_type": "code",
   "execution_count": 73,
   "metadata": {
    "collapsed": false
   },
   "outputs": [
    {
     "data": {
      "text/plain": [
       "1000209"
      ]
     },
     "execution_count": 73,
     "metadata": {},
     "output_type": "execute_result"
    },
    {
     "name": "stdout",
     "output_type": "stream",
     "text": [
      "In [73] used 0.000 MiB RAM in 4.488s, peaked 119.445 MiB above current, total RAM usage 411.598 MiB\n"
     ]
    }
   ],
   "source": [
    "# Create an index for the 'title' column\n",
    "h5lens = h5i.root.h5lens\n",
    "h5lens.cols.title.create_csindex()"
   ]
  },
  {
   "cell_type": "code",
   "execution_count": 74,
   "metadata": {
    "collapsed": false
   },
   "outputs": [
    {
     "name": "stdout",
     "output_type": "stream",
     "text": [
      "1 loops, best of 1: 7.52 ms per loop\n",
      "In [74] used 0.000 MiB RAM in 0.015s, peaked 0.000 MiB above current, total RAM usage 411.598 MiB\n"
     ]
    }
   ],
   "source": [
    "# ...and redo the query...\n",
    "t = %timeit -r1 -n1 -o result = [r['user_id'] for r in h5lens.where(\"(title == 'Tom and Huck (1995)') & (rating == 5)\")]"
   ]
  },
  {
   "cell_type": "code",
   "execution_count": 75,
   "metadata": {
    "collapsed": false
   },
   "outputs": [
    {
     "data": {
      "text/plain": [
       "[(75,), (3842,), (6031,)]"
      ]
     },
     "execution_count": 75,
     "metadata": {},
     "output_type": "execute_result"
    },
    {
     "name": "stdout",
     "output_type": "stream",
     "text": [
      "In [75] used 0.000 MiB RAM in 0.008s, peaked 0.000 MiB above current, total RAM usage 411.598 MiB\n"
     ]
    }
   ],
   "source": [
    "# keep the run-time for reference\n",
    "qtime_pytables_index1 = t.best\n",
    "# ...and print the result (for reference too)\n",
    "result"
   ]
  },
  {
   "cell_type": "markdown",
   "metadata": {},
   "source": [
    "So, by indexing one column we have got a 30x of acceleration wrt PyTables (11 vs 350 ms).  What happens if we index the 'rating' column?"
   ]
  },
  {
   "cell_type": "code",
   "execution_count": 76,
   "metadata": {
    "collapsed": false
   },
   "outputs": [
    {
     "data": {
      "text/plain": [
       "1000209"
      ]
     },
     "execution_count": 76,
     "metadata": {},
     "output_type": "execute_result"
    },
    {
     "name": "stdout",
     "output_type": "stream",
     "text": [
      "In [76] used 0.000 MiB RAM in 0.872s, peaked 0.000 MiB above current, total RAM usage 411.598 MiB\n"
     ]
    }
   ],
   "source": [
    "h5lens.cols.rating.create_csindex()"
   ]
  },
  {
   "cell_type": "code",
   "execution_count": 77,
   "metadata": {
    "collapsed": false
   },
   "outputs": [
    {
     "name": "stdout",
     "output_type": "stream",
     "text": [
      "1 loops, best of 1: 2.26 ms per loop\n",
      "In [77] used 0.000 MiB RAM in 0.009s, peaked 0.000 MiB above current, total RAM usage 411.598 MiB\n"
     ]
    }
   ],
   "source": [
    "t = %timeit -r1 -n1 -o result = [r['user_id'] for r in h5lens.where(\"(title == 'Tom and Huck (1995)') & (rating == 5)\")]"
   ]
  },
  {
   "cell_type": "code",
   "execution_count": 78,
   "metadata": {
    "collapsed": false
   },
   "outputs": [
    {
     "data": {
      "text/plain": [
       "[(75,), (3842,), (6031,)]"
      ]
     },
     "execution_count": 78,
     "metadata": {},
     "output_type": "execute_result"
    },
    {
     "name": "stdout",
     "output_type": "stream",
     "text": [
      "In [78] used 0.000 MiB RAM in 0.006s, peaked 0.000 MiB above current, total RAM usage 411.598 MiB\n"
     ]
    }
   ],
   "source": [
    "# keep the run-time for reference\n",
    "qtime_pytables_index2 = t.best\n",
    "# ...and print the result (for reference too)\n",
    "result"
   ]
  },
  {
   "cell_type": "markdown",
   "metadata": {},
   "source": [
    "Ok, that's another ~5x additional acceleration, and the best time that we ever reached for this query."
   ]
  },
  {
   "cell_type": "code",
   "execution_count": 79,
   "metadata": {
    "collapsed": false
   },
   "outputs": [
    {
     "name": "stdout",
     "output_type": "stream",
     "text": [
      "In [79] used 0.004 MiB RAM in 0.165s, peaked 0.000 MiB above current, total RAM usage 411.602 MiB\n"
     ]
    }
   ],
   "source": [
    "h5i.close()"
   ]
  },
  {
   "cell_type": "markdown",
   "metadata": {},
   "source": [
    "##Indexing (SQLite)"
   ]
  },
  {
   "cell_type": "markdown",
   "metadata": {},
   "source": [
    "We are of course curious to find out how indexing in relational databases fares against PyTables' own indexing."
   ]
  },
  {
   "cell_type": "code",
   "execution_count": 80,
   "metadata": {
    "collapsed": false
   },
   "outputs": [
    {
     "name": "stdout",
     "output_type": "stream",
     "text": [
      "In [80] used 0.000 MiB RAM in 0.167s, peaked 0.000 MiB above current, total RAM usage 411.602 MiB\n"
     ]
    }
   ],
   "source": [
    "sqlite_idx = \"movielens-indexed.sqlite\"\n",
    "if os.path.exists(sqlite_idx):\n",
    "    os.unlink(sqlite_idx)\n",
    "shutil.copyfile(sqlite_denorm, sqlite_idx)\n",
    "conn_idx = sqlite3.connect(sqlite_idx)"
   ]
  },
  {
   "cell_type": "code",
   "execution_count": 81,
   "metadata": {
    "collapsed": false
   },
   "outputs": [
    {
     "name": "stdout",
     "output_type": "stream",
     "text": [
      "In [81] used 0.000 MiB RAM in 3.557s, peaked 0.000 MiB above current, total RAM usage 411.602 MiB\n"
     ]
    }
   ],
   "source": [
    "c = conn_idx.cursor()\n",
    "c.execute(\"CREATE INDEX index_title ON lens (title)\")\n",
    "conn_idx.commit()"
   ]
  },
  {
   "cell_type": "code",
   "execution_count": 82,
   "metadata": {
    "collapsed": false
   },
   "outputs": [
    {
     "name": "stdout",
     "output_type": "stream",
     "text": [
      "1 loops, best of 1: 555 µs per loop\n",
      "In [82] used 0.000 MiB RAM in 0.007s, peaked 0.000 MiB above current, total RAM usage 411.602 MiB\n"
     ]
    }
   ],
   "source": [
    "q = \"select user_id from lens where title == 'Tom and Huck (1995)' and rating == 5\"\n",
    "t = %timeit -r1 -n1 -o result = [r for r in c.execute(q)]"
   ]
  },
  {
   "cell_type": "code",
   "execution_count": 83,
   "metadata": {
    "collapsed": false
   },
   "outputs": [
    {
     "data": {
      "text/plain": [
       "[(75,), (3842,), (6031,)]"
      ]
     },
     "execution_count": 83,
     "metadata": {},
     "output_type": "execute_result"
    },
    {
     "name": "stdout",
     "output_type": "stream",
     "text": [
      "In [83] used 0.000 MiB RAM in 0.006s, peaked 0.000 MiB above current, total RAM usage 411.602 MiB\n"
     ]
    }
   ],
   "source": [
    "# keep the run-time for reference\n",
    "qtime_sqlite_index1 = t.best\n",
    "# ...and print the result (for reference too)\n",
    "result"
   ]
  },
  {
   "cell_type": "markdown",
   "metadata": {},
   "source": [
    "Wow, with ~.5 ms we are getting the best figure so far, and faster than the best figure with indexed PyTables.  Now, what will happen with indexing the second column?  We should get better speed, right?  Wrong!"
   ]
  },
  {
   "cell_type": "code",
   "execution_count": 84,
   "metadata": {
    "collapsed": false
   },
   "outputs": [
    {
     "data": {
      "text/plain": [
       "<sqlite3.Cursor at 0x7f94aeff5650>"
      ]
     },
     "execution_count": 84,
     "metadata": {},
     "output_type": "execute_result"
    },
    {
     "name": "stdout",
     "output_type": "stream",
     "text": [
      "In [84] used 0.000 MiB RAM in 1.719s, peaked 0.000 MiB above current, total RAM usage 411.602 MiB\n"
     ]
    }
   ],
   "source": [
    "c.execute(\"CREATE INDEX index_ratings ON lens (rating)\")"
   ]
  },
  {
   "cell_type": "code",
   "execution_count": 85,
   "metadata": {
    "collapsed": false
   },
   "outputs": [
    {
     "name": "stdout",
     "output_type": "stream",
     "text": [
      "1 loops, best of 1: 219 ms per loop\n",
      "In [85] used 0.000 MiB RAM in 0.226s, peaked 0.000 MiB above current, total RAM usage 411.602 MiB\n"
     ]
    }
   ],
   "source": [
    "q = \"select user_id from lens where title == 'Tom and Huck (1995)' and rating == 5\"\n",
    "t = %timeit -r1 -n1 -o results = [r for r in c.execute(q)]"
   ]
  },
  {
   "cell_type": "code",
   "execution_count": 86,
   "metadata": {
    "collapsed": false
   },
   "outputs": [
    {
     "data": {
      "text/plain": [
       "[(75,), (3842,), (6031,)]"
      ]
     },
     "execution_count": 86,
     "metadata": {},
     "output_type": "execute_result"
    },
    {
     "name": "stdout",
     "output_type": "stream",
     "text": [
      "In [86] used 0.000 MiB RAM in 0.007s, peaked 0.000 MiB above current, total RAM usage 411.602 MiB\n"
     ]
    }
   ],
   "source": [
    "# keep the run-time for reference\n",
    "qtime_sqlite_index2 = t.best\n",
    "# ...and print the result (for reference too)\n",
    "result"
   ]
  },
  {
   "cell_type": "markdown",
   "metadata": {},
   "source": [
    "That's a not pleasant surprise: adding another index is decrasing the speed by a factor of 170x (!).\n",
    "\n",
    "The leason to learn here is that indexing is tricky and you should always double check whether a new indexing operation is going to be beneficial for your use case."
   ]
  },
  {
   "cell_type": "code",
   "execution_count": 87,
   "metadata": {
    "collapsed": false
   },
   "outputs": [
    {
     "name": "stdout",
     "output_type": "stream",
     "text": [
      "In [87] used 0.000 MiB RAM in 0.003s, peaked 0.000 MiB above current, total RAM usage 411.602 MiB\n"
     ]
    }
   ],
   "source": [
    "conn_idx.close()"
   ]
  },
  {
   "cell_type": "markdown",
   "metadata": {},
   "source": [
    "## Final performance comparison"
   ]
  },
  {
   "cell_type": "code",
   "execution_count": 89,
   "metadata": {
    "collapsed": false
   },
   "outputs": [
    {
     "name": "stdout",
     "output_type": "stream",
     "text": [
      "In [89] used 0.000 MiB RAM in 0.007s, peaked 0.000 MiB above current, total RAM usage 411.613 MiB\n"
     ]
    }
   ],
   "source": [
    "%matplotlib inline"
   ]
  },
  {
   "cell_type": "code",
   "execution_count": 102,
   "metadata": {
    "collapsed": false
   },
   "outputs": [
    {
     "data": {
      "text/plain": [
       "<matplotlib.axes._subplots.AxesSubplot at 0x7f94b7997290>"
      ]
     },
     "execution_count": 102,
     "metadata": {},
     "output_type": "execute_result"
    },
    {
     "data": {
      "image/png": "[encoded data removed]",
      "text/plain": [
       "<matplotlib.figure.Figure at 0x7f94b7916a10>"
      ]
     },
     "metadata": {},
     "output_type": "display_data"
    },
    {
     "name": "stdout",
     "output_type": "stream",
     "text": [
      "In [102] used 0.965 MiB RAM in 0.336s, peaked 0.000 MiB above current, total RAM usage 420.078 MiB\n"
     ]
    }
   ],
   "source": [
    "# Query times\n",
    "labels = [\"pandas (in-memory)\", \"bcolz\", \"PyTables\", \"SQLite denorm\", \"pandas w/ PyTables (indexed)\", \"PyTables (indexed)\", \"SQLite (indexed)\"]\n",
    "df = pd.DataFrame({'time (sec)': [qtime_pandas_mem, qtime_bcolz_opt, qtime_pytables, qtime_sqlite_denorm, qtime_pandas_hdf5, qtime_pytables_index2, qtime_sqlite_index1]}, index=labels)\n",
    "pd.options.display.mpl_style = 'default'\n",
    "df.plot(kind='barh', figsize=(12,5), fontsize=16, title=\"Query times for MovieLens 1m\")"
   ]
  },
  {
   "cell_type": "markdown",
   "metadata": {},
   "source": [
    "## Final size comparison"
   ]
  },
  {
   "cell_type": "code",
   "execution_count": 88,
   "metadata": {
    "collapsed": false
   },
   "outputs": [
    {
     "name": "stdout",
     "output_type": "stream",
     "text": [
      "119M\tmovielens-indexed.sqlite\n",
      "78M\tmovielens-denorm.sqlite\n",
      "37M\tmovielens-norm.sqlite\n",
      "13M\tmovielens-pandas.h5\n",
      "11M\tmovielens-indexed.h5\n",
      "7,1M\tmovielens-denorm.h5\n",
      "6,6M\tmovielens-denorm.bcolz\n",
      "6,6M\tmovielens.blz\n",
      "In [88] used 0.012 MiB RAM in 0.136s, peaked 0.000 MiB above current, total RAM usage 411.613 MiB\n"
     ]
    }
   ],
   "source": [
    "!du -sh movielens* | sort -nr"
   ]
  },
  {
   "cell_type": "code",
   "execution_count": 107,
   "metadata": {
    "collapsed": false
   },
   "outputs": [
    {
     "data": {
      "text/plain": [
       "<matplotlib.axes._subplots.AxesSubplot at 0x7f94b4c11250>"
      ]
     },
     "execution_count": 107,
     "metadata": {},
     "output_type": "execute_result"
    },
    {
     "data": {
      "image/png": "[encoded data removed]",
      "text/plain": [
       "<matplotlib.figure.Figure at 0x7f94b4b90190>"
      ]
     },
     "metadata": {},
     "output_type": "display_data"
    },
    {
     "name": "stdout",
     "output_type": "stream",
     "text": [
      "In [107] used 0.902 MiB RAM in 0.375s, peaked 0.000 MiB above current, total RAM usage 424.469 MiB\n"
     ]
    }
   ],
   "source": [
    "# Container sizes\n",
    "df = pd.DataFrame({'size (MB)': [53, 7.1, 78, 6.6, 13, 11, 119]}, index=labels)\n",
    "pd.options.display.mpl_style = 'default'\n",
    "df.plot(kind='barh', figsize=(12,5), fontsize=16, title=\"Container sizes for MovieLens 1m\")"
   ]
  },
  {
   "cell_type": "markdown",
   "metadata": {
    "collapsed": true
   },
   "source": [
    "# Data Containers Overview"
   ]
  },
  {
   "cell_type": "markdown",
   "metadata": {},
   "source": [
    "Fortunately, there are many different solutions for storing large datasets both in-memory and on-disk.  Here it is a summary of the ones that we have seen in this tutorial:\n",
    "\n",
    "* In-core\n",
    "  * Python lists and dictionaries: Included in Python.  Very flexible.  Not efficient for large datasets.\n",
    "  * NumPy: Good for large amounts of data and with a lot of functionality.  Does not support compression.\n",
    "  * Pandas: Good for large amounts of data and with a lot of functionality.  Does not support compression.\n",
    "  * bcolz: Good for large amounts of data, but reduced functionality.  Supports compression.\n",
    "  \n",
    "* Out-of-core\n",
    "  * Pandas/HDFStore: Good for large datasets.  Supports indexing and compression.  Medium query speeds.\n",
    "  * PyTables: Good for large datasets.  Supports indexing and compression.  Good query speeds.\n",
    "  * bcolz: Good for large datasets.  Supports compression, but not indexing.  Medium query speeds.\n",
    "  * SQLite: Can be used for large datasets, buttakes a lot of disk.  Supports compression, but indexing.  Excellent query speeds."
   ]
  },
  {
   "cell_type": "markdown",
   "metadata": {},
   "source": [
    "As you see, every solution has strengths and weaknesses, with wild variations in resource consumptions, so the wise thing to do is to know them better and try to apply the best candidate to your scenario."
   ]
  },
  {
   "cell_type": "code",
   "execution_count": null,
   "metadata": {
    "collapsed": true
   },
   "outputs": [],
   "source": []
  }
 ],
 "metadata": {
  "kernelspec": {
   "display_name": "Python 2",
   "language": "python",
   "name": "python2"
  },
  "language_info": {
   "codemirror_mode": {
    "name": "ipython",
    "version": 2
   },
   "file_extension": ".py",
   "mimetype": "text/x-python",
   "name": "python",
   "nbconvert_exporter": "python",
   "pygments_lexer": "ipython2",
   "version": "2.7.10"
  }
 },
 "nbformat": 4,
 "nbformat_minor": 0
}
