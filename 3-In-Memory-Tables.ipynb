{
 "cells": [
  {
   "cell_type": "markdown",
   "metadata": {},
   "source": [
    "#Querying tables"
   ]
  },
  {
   "cell_type": "markdown",
   "metadata": {},
   "source": [
    "> Objectives:\n",
    "> * Compare queries of tabular data for **in-memory** containers\n",
    "> * Compare sizes and times for those"
   ]
  },
  {
   "cell_type": "code",
   "execution_count": 1,
   "metadata": {
    "collapsed": false
   },
   "outputs": [
    {
     "name": "stdout",
     "output_type": "stream",
     "text": [
      "In [1] used 0.043 MiB RAM in 0.001s, peaked 0.000 MiB above current, total RAM usage 30.984 MiB\n"
     ]
    }
   ],
   "source": [
    "from ipython_memwatcher import MemWatcher\n",
    "mw = MemWatcher()\n",
    "mw.start_watching_memory()"
   ]
  },
  {
   "cell_type": "code",
   "execution_count": 2,
   "metadata": {
    "collapsed": false
   },
   "outputs": [
    {
     "name": "stdout",
     "output_type": "stream",
     "text": [
      "In [2] used 0.023 MiB RAM in 0.003s, peaked 0.000 MiB above current, total RAM usage 31.008 MiB\n"
     ]
    }
   ],
   "source": [
    "import os\n",
    "dset = 'movielens-1m'\n",
    "fdata = os.path.join(dset, 'ratings.dat.gz')\n",
    "fitem = os.path.join(dset, 'movies.dat')"
   ]
  },
  {
   "cell_type": "code",
   "execution_count": 3,
   "metadata": {
    "collapsed": false
   },
   "outputs": [
    {
     "name": "stdout",
     "output_type": "stream",
     "text": [
      "In [3] used 77.062 MiB RAM in 0.688s, peaked 2.234 MiB above current, total RAM usage 108.070 MiB\n"
     ]
    }
   ],
   "source": [
    "import pandas as pd\n",
    "# pass in column names for each CSV\n",
    "r_cols = ['user_id', 'movie_id', 'rating', 'unix_timestamp']\n",
    "ratings = pd.read_csv(fdata, sep=';', names=r_cols, compression='gzip')\n",
    "\n",
    "m_cols = ['movie_id', 'title', 'genres']\n",
    "movies = pd.read_csv(fitem, sep=';', names=m_cols,\n",
    "                     dtype={'title': object, 'genres': object})"
   ]
  },
  {
   "cell_type": "code",
   "execution_count": 4,
   "metadata": {
    "collapsed": false
   },
   "outputs": [
    {
     "name": "stdout",
     "output_type": "stream",
     "text": [
      "In [4] used 54.027 MiB RAM in 0.179s, peaked 0.000 MiB above current, total RAM usage 162.098 MiB\n"
     ]
    }
   ],
   "source": [
    "lens = pd.merge(movies, ratings)"
   ]
  },
  {
   "cell_type": "code",
   "execution_count": 5,
   "metadata": {
    "collapsed": false
   },
   "outputs": [
    {
     "name": "stdout",
     "output_type": "stream",
     "text": [
      "   movie_id             title                       genres  user_id  rating  \\\n",
      "0         1  Toy Story (1995)  Animation|Children's|Comedy        1       5   \n",
      "1         1  Toy Story (1995)  Animation|Children's|Comedy        6       4   \n",
      "2         1  Toy Story (1995)  Animation|Children's|Comedy        8       4   \n",
      "3         1  Toy Story (1995)  Animation|Children's|Comedy        9       5   \n",
      "4         1  Toy Story (1995)  Animation|Children's|Comedy       10       5   \n",
      "5         1  Toy Story (1995)  Animation|Children's|Comedy       18       4   \n",
      "6         1  Toy Story (1995)  Animation|Children's|Comedy       19       5   \n",
      "7         1  Toy Story (1995)  Animation|Children's|Comedy       21       3   \n",
      "8         1  Toy Story (1995)  Animation|Children's|Comedy       23       4   \n",
      "9         1  Toy Story (1995)  Animation|Children's|Comedy       26       3   \n",
      "\n",
      "   unix_timestamp  \n",
      "0       978824268  \n",
      "1       978237008  \n",
      "2       978233496  \n",
      "3       978225952  \n",
      "4       978226474  \n",
      "5       978154768  \n",
      "6       978555994  \n",
      "7       978139347  \n",
      "8       978463614  \n",
      "9       978130703  \n",
      "<class 'pandas.core.frame.DataFrame'>\n",
      "Int64Index: 1000209 entries, 0 to 1000208\n",
      "Data columns (total 6 columns):\n",
      "movie_id          1000209 non-null int64\n",
      "title             1000209 non-null object\n",
      "genres            1000209 non-null object\n",
      "user_id           1000209 non-null int64\n",
      "rating            1000209 non-null int64\n",
      "unix_timestamp    1000209 non-null int64\n",
      "dtypes: int64(4), object(2)\n",
      "memory usage: 53.4+ MB\n",
      "In [5] used 24.797 MiB RAM in 0.250s, peaked 0.000 MiB above current, total RAM usage 186.895 MiB\n"
     ]
    }
   ],
   "source": [
    "print(lens[:10])\n",
    "lens.info()"
   ]
  },
  {
   "cell_type": "code",
   "execution_count": 6,
   "metadata": {
    "collapsed": false
   },
   "outputs": [
    {
     "data": {
      "text/plain": [
       "45.785934448242188"
      ]
     },
     "execution_count": 6,
     "metadata": {},
     "output_type": "execute_result"
    },
    {
     "name": "stdout",
     "output_type": "stream",
     "text": [
      "In [6] used 0.055 MiB RAM in 0.021s, peaked 0.000 MiB above current, total RAM usage 186.949 MiB\n"
     ]
    }
   ],
   "source": [
    "size_pandas = lens.memory_usage().sum(index=True) / 2**20.\n",
    "size_pandas"
   ]
  },
  {
   "cell_type": "code",
   "execution_count": 7,
   "metadata": {
    "collapsed": false
   },
   "outputs": [
    {
     "name": "stdout",
     "output_type": "stream",
     "text": [
      "10 loops, best of 3: 39.6 ms per loop\n"
     ]
    },
    {
     "data": {
      "text/plain": [
       "5121      75\n",
       "5164    3842\n",
       "5187    6031\n",
       "Name: user_id, dtype: int64"
      ]
     },
     "execution_count": 7,
     "metadata": {},
     "output_type": "execute_result"
    },
    {
     "name": "stdout",
     "output_type": "stream",
     "text": [
      "In [7] used 0.234 MiB RAM in 2.011s, peaked 0.000 MiB above current, total RAM usage 187.184 MiB\n"
     ]
    }
   ],
   "source": [
    "result = lens.query(\"(title == 'Tom and Huck (1995)') & (rating == 5)\")['user_id']\n",
    "t = %timeit -o lens.query(\"(title == 'Tom and Huck (1995)') & (rating == 5)\")['user_id']\n",
    "result"
   ]
  },
  {
   "cell_type": "code",
   "execution_count": 8,
   "metadata": {
    "collapsed": false
   },
   "outputs": [
    {
     "name": "stdout",
     "output_type": "stream",
     "text": [
      "In [8] used 0.004 MiB RAM in 0.002s, peaked 0.000 MiB above current, total RAM usage 187.188 MiB\n"
     ]
    }
   ],
   "source": [
    "qtime_pandas = t.best"
   ]
  },
  {
   "cell_type": "markdown",
   "metadata": {},
   "source": [
    "##Use a compressed in-memory container via `bcolz`"
   ]
  },
  {
   "cell_type": "code",
   "execution_count": 9,
   "metadata": {
    "collapsed": false,
    "scrolled": true
   },
   "outputs": [
    {
     "name": "stdout",
     "output_type": "stream",
     "text": [
      "-=-=-=-=-=-=-=-=-=-=-=-=-=-=-=-=-=-=-=-=-=-=-=-=-=-=-=-=-=-=-=-=-=-=-=-=-=-=\n",
      "bcolz version:     0.9.0\n",
      "NumPy version:     1.9.2\n",
      "Blosc version:     1.4.1 ($Date:: 2014-07-08 #$)\n",
      "Blosc compressors: ['blosclz', 'lz4', 'lz4hc', 'snappy', 'zlib']\n",
      "Numexpr version:   2.4.3\n",
      "Python version:    2.7.10 |Anaconda 2.1.0 (64-bit)| (default, May 28 2015, 17:02:03) \n",
      "[GCC 4.4.7 20120313 (Red Hat 4.4.7-1)]\n",
      "Platform:          linux2-x86_64\n",
      "Byte-ordering:     little\n",
      "Detected cores:    4\n",
      "-=-=-=-=-=-=-=-=-=-=-=-=-=-=-=-=-=-=-=-=-=-=-=-=-=-=-=-=-=-=-=-=-=-=-=-=-=-=\n"
     ]
    },
    {
     "data": {
      "text/plain": [
       "4"
      ]
     },
     "execution_count": 9,
     "metadata": {},
     "output_type": "execute_result"
    },
    {
     "name": "stdout",
     "output_type": "stream",
     "text": [
      "In [9] used 5.895 MiB RAM in 0.085s, peaked 0.000 MiB above current, total RAM usage 193.082 MiB\n"
     ]
    }
   ],
   "source": [
    "import bcolz\n",
    "bcolz.print_versions()\n",
    "bcolz.defaults.cparams['cname'] = 'lz4'\n",
    "bcolz.defaults.cparams['clevel'] = 5\n",
    "bcolz.set_nthreads(4)"
   ]
  },
  {
   "cell_type": "code",
   "execution_count": 10,
   "metadata": {
    "collapsed": false
   },
   "outputs": [
    {
     "name": "stdout",
     "output_type": "stream",
     "text": [
      "In [10] used 0.426 MiB RAM in 0.329s, peaked 77.930 MiB above current, total RAM usage 193.508 MiB\n"
     ]
    }
   ],
   "source": [
    "zlens = bcolz.ctable.fromdataframe(lens)"
   ]
  },
  {
   "cell_type": "markdown",
   "metadata": {},
   "source": [
    "Sometimes the memory reported as used is too much biased (don't know why), so let's repeat the operation, but using a different container:"
   ]
  },
  {
   "cell_type": "code",
   "execution_count": 11,
   "metadata": {
    "collapsed": false
   },
   "outputs": [
    {
     "name": "stdout",
     "output_type": "stream",
     "text": [
      "In [11] used 0.867 MiB RAM in 0.321s, peaked 77.352 MiB above current, total RAM usage 194.375 MiB\n"
     ]
    }
   ],
   "source": [
    "zlens2 = bcolz.ctable.fromdataframe(lens)"
   ]
  },
  {
   "cell_type": "code",
   "execution_count": 12,
   "metadata": {
    "collapsed": false
   },
   "outputs": [
    {
     "name": "stdout",
     "output_type": "stream",
     "text": [
      "In [12] used 0.000 MiB RAM in 0.003s, peaked 0.000 MiB above current, total RAM usage 194.375 MiB\n"
     ]
    }
   ],
   "source": [
    "size_bcolz = zlens.cbytes / 2**20"
   ]
  },
  {
   "cell_type": "code",
   "execution_count": 13,
   "metadata": {
    "collapsed": false
   },
   "outputs": [
    {
     "data": {
      "text/plain": [
       "ctable((1000209,), [('movie_id', '<i8'), ('title', 'S82'), ('genres', 'S47'), ('user_id', '<i8'), ('rating', '<i8'), ('unix_timestamp', '<i8')])\n",
       "  nbytes: 153.57 MB; cbytes: 7.89 MB; ratio: 19.45\n",
       "  cparams := cparams(clevel=5, shuffle=True, cname='lz4')\n",
       "[(1, 'Toy Story (1995)', \"Animation|Children's|Comedy\", 1, 5, 978824268)\n",
       " (1, 'Toy Story (1995)', \"Animation|Children's|Comedy\", 6, 4, 978237008)\n",
       " (1, 'Toy Story (1995)', \"Animation|Children's|Comedy\", 8, 4, 978233496)\n",
       " ...,\n",
       " (3952, 'Contender, The (2000)', 'Drama|Thriller', 5837, 4, 1011902656)\n",
       " (3952, 'Contender, The (2000)', 'Drama|Thriller', 5927, 1, 979852537)\n",
       " (3952, 'Contender, The (2000)', 'Drama|Thriller', 5998, 4, 1001781044)]"
      ]
     },
     "execution_count": 13,
     "metadata": {},
     "output_type": "execute_result"
    },
    {
     "name": "stdout",
     "output_type": "stream",
     "text": [
      "In [13] used 0.008 MiB RAM in 0.013s, peaked 0.000 MiB above current, total RAM usage 194.383 MiB\n"
     ]
    }
   ],
   "source": [
    "zlens"
   ]
  },
  {
   "cell_type": "code",
   "execution_count": 14,
   "metadata": {
    "collapsed": false
   },
   "outputs": [
    {
     "data": {
      "text/plain": [
       "6.5408477783203125"
      ]
     },
     "execution_count": 14,
     "metadata": {},
     "output_type": "execute_result"
    },
    {
     "name": "stdout",
     "output_type": "stream",
     "text": [
      "In [14] used 0.000 MiB RAM in 0.005s, peaked 0.000 MiB above current, total RAM usage 194.383 MiB\n"
     ]
    }
   ],
   "source": [
    "size_pandas / size_bcolz"
   ]
  },
  {
   "cell_type": "markdown",
   "metadata": {},
   "source": [
    "We can see that the space taken by a bcolz container is around 7x smaller (!) than a pandas one."
   ]
  },
  {
   "cell_type": "markdown",
   "metadata": {},
   "source": [
    "### Excercise\n",
    "\n",
    "Why do you think that the number of uncompressed bytes (nbytes) that the ctable reports is 3x more than pandas (153 MB vs 54 MB)?\n",
    "\n",
    "*Hint:* Pandas stores the string columns in NumPy containers with 'object' dtype whereas bcolz uses the equivalent to NumPy's 'string' objects."
   ]
  },
  {
   "cell_type": "code",
   "execution_count": 15,
   "metadata": {
    "collapsed": false
   },
   "outputs": [
    {
     "name": "stdout",
     "output_type": "stream",
     "text": [
      "10 loops, best of 3: 25 ms per loop\n",
      "In [15] used 0.348 MiB RAM in 1.173s, peaked 0.000 MiB above current, total RAM usage 194.730 MiB\n"
     ]
    }
   ],
   "source": [
    "# Querying a bcolz dataset\n",
    "resultz = [(r.nrow__, r.user_id) for r in zlens.where(\"(title == b'Tom and Huck (1995)') & (rating == 5)\", outcols=['nrow__', 'user_id'])]\n",
    "t = %timeit -o [(r.nrow__, r.user_id) for r in zlens.where(\"(title == b'Tom and Huck (1995)') & (rating == 5)\", outcols=['nrow__', 'user_id'])]"
   ]
  },
  {
   "cell_type": "code",
   "execution_count": 16,
   "metadata": {
    "collapsed": false
   },
   "outputs": [
    {
     "name": "stdout",
     "output_type": "stream",
     "text": [
      "In [16] used 0.000 MiB RAM in 0.002s, peaked 0.000 MiB above current, total RAM usage 194.730 MiB\n"
     ]
    }
   ],
   "source": [
    "qtime_bcolz = t.best"
   ]
  },
  {
   "cell_type": "code",
   "execution_count": 17,
   "metadata": {
    "collapsed": false
   },
   "outputs": [
    {
     "data": {
      "text/plain": [
       "1.5845635397851394"
      ]
     },
     "execution_count": 17,
     "metadata": {},
     "output_type": "execute_result"
    },
    {
     "name": "stdout",
     "output_type": "stream",
     "text": [
      "In [17] used 0.000 MiB RAM in 0.006s, peaked 0.000 MiB above current, total RAM usage 194.730 MiB\n"
     ]
    }
   ],
   "source": [
    "qtime_pandas / qtime_bcolz"
   ]
  },
  {
   "cell_type": "markdown",
   "metadata": {},
   "source": [
    "We see that bcolz containers, besides being in compressed state, provide ~2x faster query times than pandas"
   ]
  },
  {
   "cell_type": "code",
   "execution_count": 18,
   "metadata": {
    "collapsed": false
   },
   "outputs": [
    {
     "name": "stdout",
     "output_type": "stream",
     "text": [
      "('results with pandas Dataframe:', 5121      75\n",
      "5164    3842\n",
      "5187    6031\n",
      "Name: user_id, dtype: int64)\n",
      "('results with bcolz ctable:', [(5121, 75), (5164, 3842), (5187, 6031)])\n",
      "In [18] used 0.000 MiB RAM in 0.005s, peaked 0.000 MiB above current, total RAM usage 194.730 MiB\n"
     ]
    }
   ],
   "source": [
    "# Sanity check (always check for your results!)\n",
    "print(\"results with pandas Dataframe:\", result)\n",
    "print(\"results with bcolz ctable:\", resultz)"
   ]
  },
  {
   "cell_type": "markdown",
   "metadata": {
    "collapsed": true
   },
   "source": [
    "## Using structured NumPy arrays"
   ]
  },
  {
   "cell_type": "code",
   "execution_count": 19,
   "metadata": {
    "collapsed": false
   },
   "outputs": [
    {
     "name": "stdout",
     "output_type": "stream",
     "text": [
      "In [19] used 53.418 MiB RAM in 0.593s, peaked 0.000 MiB above current, total RAM usage 248.148 MiB\n"
     ]
    }
   ],
   "source": [
    "nalens = lens.to_records()"
   ]
  },
  {
   "cell_type": "code",
   "execution_count": 20,
   "metadata": {
    "collapsed": false
   },
   "outputs": [
    {
     "name": "stdout",
     "output_type": "stream",
     "text": [
      "In [20] used 0.000 MiB RAM in 0.003s, peaked 0.000 MiB above current, total RAM usage 248.148 MiB\n"
     ]
    }
   ],
   "source": [
    "size_numpy = (nalens.size * nalens.dtype.itemsize) / 2**20"
   ]
  },
  {
   "cell_type": "code",
   "execution_count": 21,
   "metadata": {
    "collapsed": false
   },
   "outputs": [
    {
     "name": "stdout",
     "output_type": "stream",
     "text": [
      "100 loops, best of 3: 16.3 ms per loop\n"
     ]
    },
    {
     "data": {
      "text/plain": [
       "rec.array([ (5121, 8, 'Tom and Huck (1995)', \"Adventure|Children's\", 75, 5, 977851520),\n",
       "       (5164, 8, 'Tom and Huck (1995)', \"Adventure|Children's\", 3842, 5, 967986151),\n",
       "       (5187, 8, 'Tom and Huck (1995)', \"Adventure|Children's\", 6031, 5, 956718223)], \n",
       "      dtype=[('index', '<i8'), ('movie_id', '<i8'), ('title', 'O'), ('genres', 'O'), ('user_id', '<i8'), ('rating', '<i8'), ('unix_timestamp', '<i8')])"
      ]
     },
     "execution_count": 21,
     "metadata": {},
     "output_type": "execute_result"
    },
    {
     "name": "stdout",
     "output_type": "stream",
     "text": [
      "In [21] used 0.000 MiB RAM in 6.822s, peaked 0.000 MiB above current, total RAM usage 248.148 MiB\n"
     ]
    }
   ],
   "source": [
    "resultna = nalens[(nalens['title'] == 'Tom and Huck (1995)') & (nalens['rating'] == 5)]\n",
    "t = %timeit -o nalens[(nalens['title'] == 'Tom and Huck (1995)') & (nalens['rating'] == 5)]\n",
    "resultna"
   ]
  },
  {
   "cell_type": "markdown",
   "metadata": {},
   "source": [
    "Again, NumPy works the fastest for in-memory data containers, while memory consumption is close to pandas."
   ]
  },
  {
   "cell_type": "code",
   "execution_count": 22,
   "metadata": {
    "collapsed": false
   },
   "outputs": [
    {
     "name": "stdout",
     "output_type": "stream",
     "text": [
      "In [22] used 0.000 MiB RAM in 0.002s, peaked 0.000 MiB above current, total RAM usage 248.148 MiB\n"
     ]
    }
   ],
   "source": [
    "qtime_numpy = t.best"
   ]
  },
  {
   "cell_type": "markdown",
   "metadata": {},
   "source": [
    "##Performance comparsion"
   ]
  },
  {
   "cell_type": "code",
   "execution_count": 23,
   "metadata": {
    "collapsed": false
   },
   "outputs": [
    {
     "name": "stdout",
     "output_type": "stream",
     "text": [
      "In [23] used 7.578 MiB RAM in 0.143s, peaked 0.000 MiB above current, total RAM usage 255.727 MiB\n"
     ]
    }
   ],
   "source": [
    "%matplotlib inline"
   ]
  },
  {
   "cell_type": "code",
   "execution_count": 24,
   "metadata": {
    "collapsed": false,
    "scrolled": true
   },
   "outputs": [
    {
     "data": {
      "text/plain": [
       "<matplotlib.axes._subplots.AxesSubplot at 0x7f460dc406d0>"
      ]
     },
     "execution_count": 24,
     "metadata": {},
     "output_type": "execute_result"
    },
    {
     "name": "stderr",
     "output_type": "stream",
     "text": [
      "/home/faltet/anaconda/lib/python2.7/site-packages/matplotlib/font_manager.py:1279: UserWarning: findfont: Font family [u'monospace'] not found. Falling back to Bitstream Vera Sans\n",
      "  (prop.get_family(), self.defaultFamily[fontext]))\n"
     ]
    },
    {
     "data": {
      "image/png": "[encoded data removed]",
      "text/plain": [
       "<matplotlib.figure.Figure at 0x7f460dc40050>"
      ]
     },
     "metadata": {},
     "output_type": "display_data"
    },
    {
     "name": "stdout",
     "output_type": "stream",
     "text": [
      "In [24] used 6.680 MiB RAM in 0.326s, peaked 0.000 MiB above current, total RAM usage 262.406 MiB\n"
     ]
    }
   ],
   "source": [
    "# Query times\n",
    "labels = [\"pandas\", \"bcolz\", \"numpy (recarray)\"]\n",
    "df = pd.DataFrame({'time (sec)': [qtime_pandas, qtime_bcolz, qtime_numpy]}, index=labels)\n",
    "pd.options.display.mpl_style = 'default'\n",
    "df.plot(kind='barh', figsize=(12,5), fontsize=16, title=\"Query times for MovieLens 1m (in-memory)\")"
   ]
  },
  {
   "cell_type": "markdown",
   "metadata": {},
   "source": [
    "## Size comparison"
   ]
  },
  {
   "cell_type": "code",
   "execution_count": 25,
   "metadata": {
    "collapsed": false,
    "scrolled": true
   },
   "outputs": [
    {
     "data": {
      "text/plain": [
       "<matplotlib.axes._subplots.AxesSubplot at 0x7f460dc12e10>"
      ]
     },
     "execution_count": 25,
     "metadata": {},
     "output_type": "execute_result"
    },
    {
     "data": {
      "image/png": "[encoded data removed]",
      "text/plain": [
       "<matplotlib.figure.Figure at 0x7f460dc1bc90>"
      ]
     },
     "metadata": {},
     "output_type": "display_data"
    },
    {
     "name": "stdout",
     "output_type": "stream",
     "text": [
      "In [25] used 2.699 MiB RAM in 0.280s, peaked 0.000 MiB above current, total RAM usage 265.105 MiB\n"
     ]
    }
   ],
   "source": [
    "# Container sizes\n",
    "df = pd.DataFrame({'size (MB)': [size_pandas, size_bcolz, size_numpy]}, index=labels)\n",
    "pd.options.display.mpl_style = 'default'\n",
    "df.plot(kind='barh', figsize=(12,5), fontsize=16, title=\"Container sizes for MovieLens 1m\")"
   ]
  },
  {
   "cell_type": "markdown",
   "metadata": {},
   "source": [
    "## Rules of thumb for querying in-memory tabular datasets\n",
    "\n",
    "* Choose pure NumPy recarrays if you need the fastest speed\n",
    "* Choose bcolz ctables if you need to store lots of data in limited memory and not want to loose too much speed\n",
    "* Choose pandas if what you need is rich functionality on top of your containers (at the penalty of some speed)"
   ]
  }
 ],
 "metadata": {
  "kernelspec": {
   "display_name": "Python 2",
   "language": "python",
   "name": "python2"
  },
  "language_info": {
   "codemirror_mode": {
    "name": "ipython",
    "version": 2
   },
   "file_extension": ".py",
   "mimetype": "text/x-python",
   "name": "python",
   "nbconvert_exporter": "python",
   "pygments_lexer": "ipython2",
   "version": "2.7.10"
  }
 },
 "nbformat": 4,
 "nbformat_minor": 0
}
