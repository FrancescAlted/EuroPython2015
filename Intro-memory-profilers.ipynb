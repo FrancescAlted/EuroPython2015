{
 "cells": [
  {
   "cell_type": "markdown",
   "metadata": {},
   "source": [
    "#Introduction to memory profiling"
   ]
  },
  {
   "cell_type": "markdown",
   "metadata": {},
   "source": [
    "> Objectives:\n",
    "> * Be introduced to memory profiling using different tools\n",
    "> * Some small introduction to time profiling in IPython too\n"
   ]
  },
  {
   "cell_type": "markdown",
   "metadata": {},
   "source": [
    "##ipython_memwatcher"
   ]
  },
  {
   "cell_type": "markdown",
   "metadata": {},
   "source": [
    "Our recommended way to profile memory consumption for this tutorial will be [ipython_memwatcher](https://pypi.python.org/pypi/ipython_memwatcher):\n"
   ]
  },
  {
   "cell_type": "code",
   "execution_count": 1,
   "metadata": {
    "collapsed": false
   },
   "outputs": [
    {
     "name": "stdout",
     "output_type": "stream",
     "text": [
      "In [1] used 0.031 MiB RAM in 0.001s, peaked 0.000 MiB above current, total RAM usage 30.797 MiB\n"
     ]
    }
   ],
   "source": [
    "from ipython_memwatcher import MemWatcher\n",
    "mw = MemWatcher()\n",
    "mw.start_watching_memory()"
   ]
  },
  {
   "cell_type": "code",
   "execution_count": 2,
   "metadata": {
    "collapsed": false
   },
   "outputs": [
    {
     "name": "stdout",
     "output_type": "stream",
     "text": [
      "In [2] used 31.250 MiB RAM in 0.127s, peaked 0.000 MiB above current, total RAM usage 62.047 MiB\n"
     ]
    }
   ],
   "source": [
    "# Let's create a big object\n",
    "a = [i for i in range(1000*1000)]"
   ]
  },
  {
   "cell_type": "code",
   "execution_count": 3,
   "metadata": {
    "collapsed": false
   },
   "outputs": [
    {
     "data": {
      "text/plain": [
       "Measurements(memory_delta=31.25, time_delta=0.12670516967773438, memory_peak=0, memory_usage=62.046875)"
      ]
     },
     "execution_count": 3,
     "metadata": {},
     "output_type": "execute_result"
    },
    {
     "name": "stdout",
     "output_type": "stream",
     "text": [
      "In [3] used 0.027 MiB RAM in 0.009s, peaked 0.000 MiB above current, total RAM usage 62.074 MiB\n"
     ]
    }
   ],
   "source": [
    "# Get some measurements from the last executed cell:\n",
    "meas = mw.measurements\n",
    "meas"
   ]
  },
  {
   "cell_type": "code",
   "execution_count": 4,
   "metadata": {
    "collapsed": false
   },
   "outputs": [
    {
     "data": {
      "text/plain": [
       "31.25"
      ]
     },
     "execution_count": 4,
     "metadata": {},
     "output_type": "execute_result"
    },
    {
     "name": "stdout",
     "output_type": "stream",
     "text": [
      "In [4] used 0.016 MiB RAM in 0.005s, peaked 0.000 MiB above current, total RAM usage 62.090 MiB\n"
     ]
    }
   ],
   "source": [
    "# MemWatcher.measurements is a named tuple.  We can easily get info out of it:\n",
    "meas.memory_delta"
   ]
  },
  {
   "cell_type": "code",
   "execution_count": 5,
   "metadata": {
    "collapsed": false
   },
   "outputs": [
    {
     "data": {
      "text/plain": [
       "32.768"
      ]
     },
     "execution_count": 5,
     "metadata": {},
     "output_type": "execute_result"
    },
    {
     "name": "stdout",
     "output_type": "stream",
     "text": [
      "In [5] used 0.000 MiB RAM in 0.006s, peaked 0.000 MiB above current, total RAM usage 62.090 MiB\n"
     ]
    }
   ],
   "source": [
    "# This takes betweed 32 ~ 35 bytes per element:\n",
    "meas.memory_delta * (2**20) / 1e6"
   ]
  },
  {
   "cell_type": "code",
   "execution_count": 6,
   "metadata": {
    "collapsed": false
   },
   "outputs": [
    {
     "data": {
      "text/plain": [
       "int"
      ]
     },
     "execution_count": 6,
     "metadata": {},
     "output_type": "execute_result"
    },
    {
     "name": "stdout",
     "output_type": "stream",
     "text": [
      "In [6] used 0.004 MiB RAM in 0.005s, peaked 0.000 MiB above current, total RAM usage 62.094 MiB\n"
     ]
    }
   ],
   "source": [
    "# What are the elements made from?\n",
    "type(a[0])"
   ]
  },
  {
   "cell_type": "code",
   "execution_count": 7,
   "metadata": {
    "collapsed": false
   },
   "outputs": [
    {
     "data": {
      "text/plain": [
       "24"
      ]
     },
     "execution_count": 7,
     "metadata": {},
     "output_type": "execute_result"
    },
    {
     "name": "stdout",
     "output_type": "stream",
     "text": [
      "In [7] used 0.004 MiB RAM in 0.006s, peaked 0.000 MiB above current, total RAM usage 62.098 MiB\n"
     ]
    }
   ],
   "source": [
    "# How much memory take an int?\n",
    "# Beware: the size below will depend on whether you are using a 32-bit or 64-bit Python\n",
    "import sys\n",
    "sys.getsizeof(a[0])"
   ]
  },
  {
   "cell_type": "markdown",
   "metadata": {},
   "source": [
    "But 24 is quite less than 32~35.  Where this overhead comes from?"
   ]
  },
  {
   "cell_type": "markdown",
   "metadata": {},
   "source": [
    "##objgraph"
   ]
  },
  {
   "cell_type": "code",
   "execution_count": 8,
   "metadata": {
    "collapsed": false
   },
   "outputs": [
    {
     "name": "stdout",
     "output_type": "stream",
     "text": [
      "Graph written to /tmp/objgraph-Ru8EyF.dot (4 nodes)\n",
      "Image generated as simple-list.png\n"
     ]
    },
    {
     "data": {
      "image/png": "[encoded data removed]",
      "text/plain": [
       "<IPython.core.display.Image object>"
      ]
     },
     "execution_count": 8,
     "metadata": {},
     "output_type": "execute_result"
    },
    {
     "name": "stdout",
     "output_type": "stream",
     "text": [
      "In [8] used 0.070 MiB RAM in 0.096s, peaked 0.000 MiB above current, total RAM usage 62.168 MiB\n"
     ]
    }
   ],
   "source": [
    "# Let's introduce the objgraph package and see\n",
    "b = [1,2,3]\n",
    "import objgraph\n",
    "objgraph.show_refs([b], filename='simple-list.png')\n",
    "from IPython.core.display import Image \n",
    "Image('simple-list.png')"
   ]
  },
  {
   "cell_type": "markdown",
   "metadata": {},
   "source": [
    "So, the list is an structure that takes a pointer (8 bytes in 64-bit platforms) per every element in the list.  If we add this to the 24 bytes per int, then we have 32 bytes per element, which is close to the computed 32~35 bytes above.  The remaining difference is probably due to how Python handles memory internally (over-allocation). "
   ]
  },
  {
   "cell_type": "markdown",
   "metadata": {},
   "source": [
    "##memory_profiler"
   ]
  },
  {
   "cell_type": "markdown",
   "metadata": {},
   "source": [
    "[memory_profiler](https://pypi.python.org/pypi/memory_profiler) is a basic module for memory profiling that many others use (like the `ipython_memwatcher` above) and it interacts well with ipython, so it is worth to see how it works:"
   ]
  },
  {
   "cell_type": "code",
   "execution_count": 9,
   "metadata": {
    "collapsed": false
   },
   "outputs": [
    {
     "name": "stdout",
     "output_type": "stream",
     "text": [
      "In [9] used 0.113 MiB RAM in 0.003s, peaked 0.000 MiB above current, total RAM usage 62.281 MiB\n"
     ]
    }
   ],
   "source": [
    "%load_ext memory_profiler"
   ]
  },
  {
   "cell_type": "code",
   "execution_count": 10,
   "metadata": {
    "collapsed": false
   },
   "outputs": [
    {
     "name": "stdout",
     "output_type": "stream",
     "text": [
      "peak memory: 133.71 MiB, increment: 71.43 MiB\n",
      "In [10] used 71.566 MiB RAM in 0.422s, peaked 0.000 MiB above current, total RAM usage 133.848 MiB\n"
     ]
    }
   ],
   "source": [
    "# Use %memit magic command exposed by memory_profiler\n",
    "%memit b = [i for i in range(1000*1000)]"
   ]
  },
  {
   "cell_type": "markdown",
   "metadata": {},
   "source": [
    "Please note that the `peak_memory` in this case is different than the `peaked_memory` reported by ipython_memwatcher package."
   ]
  },
  {
   "cell_type": "markdown",
   "metadata": {},
   "source": [
    "##Guppy"
   ]
  },
  {
   "cell_type": "markdown",
   "metadata": {},
   "source": [
    "Guppy is nice for having an overview of how different structures are using our memory:"
   ]
  },
  {
   "cell_type": "code",
   "execution_count": 11,
   "metadata": {
    "collapsed": false
   },
   "outputs": [
    {
     "data": {
      "text/plain": [
       "Partition of a set of 2128438 objects. Total size = 81725216 bytes.\n",
       " Index  Count   %     Size   % Cumulative  % Kind (class / dict of class)\n",
       "     0 2004742  94 48113808  59  48113808  59 int\n",
       "     1   1180   0 16434528  20  64548336  79 list\n",
       "     2  57604   3  5178296   6  69726632  85 str\n",
       "     3  30884   1  2677520   3  72404152  89 tuple\n",
       "     4   1745   0  1713944   2  74118096  91 dict (no owner)\n",
       "     5    436   0  1256416   2  75374512  92 dict of module\n",
       "     6   7828   0  1001984   1  76376496  93 types.CodeType\n",
       "     7   7722   0   926640   1  77303136  95 function\n",
       "     8    943   0   849784   1  78152920  96 type\n",
       "     9    943   0   779752   1  78932672  97 dict of type\n",
       "<562 more rows. Type e.g. '_.more' to view.>"
      ]
     },
     "execution_count": 11,
     "metadata": {},
     "output_type": "execute_result"
    },
    {
     "name": "stdout",
     "output_type": "stream",
     "text": [
      "In [11] used 32.266 MiB RAM in 3.138s, peaked 0.000 MiB above current, total RAM usage 166.113 MiB\n"
     ]
    }
   ],
   "source": [
    "from guppy import hpy; hp=hpy()\n",
    "hp.heap()"
   ]
  },
  {
   "cell_type": "code",
   "execution_count": 12,
   "metadata": {
    "collapsed": false
   },
   "outputs": [
    {
     "data": {
      "text/plain": [
       "Partition of a set of 1 object. Total size = 8126536 bytes.\n",
       " Index  Count   %     Size   % Cumulative  % Kind (class / dict of class)\n",
       "     0      1 100  8126536 100   8126536 100 list"
      ]
     },
     "execution_count": 12,
     "metadata": {},
     "output_type": "execute_result"
    },
    {
     "name": "stdout",
     "output_type": "stream",
     "text": [
      "In [12] used 0.000 MiB RAM in 0.007s, peaked 0.000 MiB above current, total RAM usage 166.113 MiB\n"
     ]
    }
   ],
   "source": [
    "# Size of the list (beware, this does not include the contents!)\n",
    "hp.iso(a)"
   ]
  },
  {
   "cell_type": "markdown",
   "metadata": {
    "collapsed": true
   },
   "source": [
    "##%time and %timeit"
   ]
  },
  {
   "cell_type": "code",
   "execution_count": 13,
   "metadata": {
    "collapsed": false
   },
   "outputs": [
    {
     "name": "stdout",
     "output_type": "stream",
     "text": [
      "CPU times: user 19.8 ms, sys: 0 ns, total: 19.8 ms\n",
      "Wall time: 27.2 ms\n",
      "In [13] used 0.000 MiB RAM in 0.031s, peaked 0.000 MiB above current, total RAM usage 166.113 MiB\n"
     ]
    }
   ],
   "source": [
    "# IPython provides a magic command to see how much time a command takes to run\n",
    "%time asum = sum(a)"
   ]
  },
  {
   "cell_type": "markdown",
   "metadata": {},
   "source": [
    "Note that `%time` offers quite detailed statistics on the time spent.\n",
    "\n",
    "Also, the time reported by MemoryWatcher has a typical overhead of 3~5 ms over the time reported by %time, so when the times to measure are about this order then it is better to rely on the %time (or %timeit below) values.  "
   ]
  },
  {
   "cell_type": "code",
   "execution_count": 14,
   "metadata": {
    "collapsed": false
   },
   "outputs": [
    {
     "name": "stdout",
     "output_type": "stream",
     "text": [
      "100 loops, best of 3: 6.95 ms per loop\n",
      "In [14] used 0.000 MiB RAM in 2.964s, peaked 0.000 MiB above current, total RAM usage 166.113 MiB\n"
     ]
    }
   ],
   "source": [
    "# We have another way to measure timings doing several loops and getting the mean\n",
    "%timeit bsum = sum(a)"
   ]
  },
  {
   "cell_type": "code",
   "execution_count": 15,
   "metadata": {
    "collapsed": false
   },
   "outputs": [
    {
     "ename": "NameError",
     "evalue": "name 'bsum' is not defined",
     "output_type": "error",
     "traceback": [
      "\u001b[1;31m---------------------------------------------------------------------------\u001b[0m",
      "\u001b[1;31mNameError\u001b[0m                                 Traceback (most recent call last)",
      "\u001b[1;32m<ipython-input-15-24d8d3d27b48>\u001b[0m in \u001b[0;36m<module>\u001b[1;34m()\u001b[0m\n\u001b[0;32m      1\u001b[0m \u001b[1;31m# However, one must notice that %timeit does not return the result of expressions\u001b[0m\u001b[1;33m\u001b[0m\u001b[1;33m\u001b[0m\u001b[0m\n\u001b[1;32m----> 2\u001b[1;33m \u001b[0mbsum\u001b[0m\u001b[1;33m\u001b[0m\u001b[0m\n\u001b[0m",
      "\u001b[1;31mNameError\u001b[0m: name 'bsum' is not defined"
     ]
    },
    {
     "name": "stdout",
     "output_type": "stream",
     "text": [
      "In [15] used 0.953 MiB RAM in 0.071s, peaked 0.000 MiB above current, total RAM usage 167.066 MiB\n"
     ]
    }
   ],
   "source": [
    "# However, one must notice that %timeit does not return the result of expressions\n",
    "bsum"
   ]
  },
  {
   "cell_type": "markdown",
   "metadata": {},
   "source": [
    "However, %timeit also permits to retrieve the measured times in loops with the -o flag:"
   ]
  },
  {
   "cell_type": "code",
   "execution_count": 16,
   "metadata": {
    "collapsed": false
   },
   "outputs": [
    {
     "name": "stdout",
     "output_type": "stream",
     "text": [
      "100 loops, best of 3: 7.06 ms per loop\n",
      "[0.7086479663848877, 0.7063848972320557, 0.7180221080780029]\n",
      "0.00706384897232\n",
      "In [16] used 0.000 MiB RAM in 3.026s, peaked 0.000 MiB above current, total RAM usage 167.066 MiB\n"
     ]
    }
   ],
   "source": [
    "t = %timeit -o sum(a)\n",
    "print(t.all_runs)\n",
    "print(t.best)"
   ]
  },
  {
   "cell_type": "markdown",
   "metadata": {},
   "source": [
    "And one can specify the number of loops (-n) and the number of repetitions (-r):"
   ]
  },
  {
   "cell_type": "code",
   "execution_count": 17,
   "metadata": {
    "collapsed": false
   },
   "outputs": [
    {
     "name": "stdout",
     "output_type": "stream",
     "text": [
      "1 loops, best of 1: 16.2 ms per loop\n",
      "[0.016164064407348633]\n",
      "0.0161640644073\n",
      "In [17] used 0.000 MiB RAM in 0.023s, peaked 0.000 MiB above current, total RAM usage 167.066 MiB\n"
     ]
    }
   ],
   "source": [
    "t = %timeit -r1 -n1 -o sum(a)\n",
    "print(t.all_runs)\n",
    "print(t.best)"
   ]
  },
  {
   "cell_type": "markdown",
   "metadata": {},
   "source": [
    "### Exercise 1\n",
    "\n",
    "Provided a dictionary like:\n",
    "\n",
    "```\n",
    "d = dict((\"key: %i\"%i, i*2) for i in a)\n",
    "```\n",
    "\n",
    "Try to guess how much RAM it uses.\n",
    "\n",
    "Why do you think it takes more space than a list?\n",
    "*Hint*: Use the `objgraph` package on a short dictionary so as to better see the data structure. "
   ]
  },
  {
   "cell_type": "code",
   "execution_count": null,
   "metadata": {
    "collapsed": true
   },
   "outputs": [],
   "source": []
  }
 ],
 "metadata": {
  "kernelspec": {
   "display_name": "Python 2",
   "language": "python",
   "name": "python2"
  },
  "language_info": {
   "codemirror_mode": {
    "name": "ipython",
    "version": 2
   },
   "file_extension": ".py",
   "mimetype": "text/x-python",
   "name": "python",
   "nbconvert_exporter": "python",
   "pygments_lexer": "ipython2",
   "version": "2.7.10"
  }
 },
 "nbformat": 4,
 "nbformat_minor": 0
}
