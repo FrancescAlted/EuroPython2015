{
 "cells": [
  {
   "cell_type": "markdown",
   "metadata": {},
   "source": [
    "#Using Data Containers With Python"
   ]
  },
  {
   "cell_type": "markdown",
   "metadata": {},
   "source": [
    "Data containers (or data structures) are extremely important in terms of both:\n",
    "\n",
    "1. Performance\n",
    "2. Storage capacity required\n",
    "\n",
    "During this tutorial you will learn how to do measurements on the parameters above on a variety of data containers in Python.  Another goal is to get insights on which situation you should be using one data container or another."
   ]
  },
  {
   "cell_type": "markdown",
   "metadata": {},
   "source": [
    "##Caveats for following the tutorial:\n",
    "\n",
    "1. These notebooks have been created and tested mainly on Jupyter notebook 3.2 and Python 2.7, but Python 3.4 should work equally fine, except for some profile utilities which will be seldom used.\n",
    "\n",
    "2. You can follow the tutorial by re-playing the [provided notebooks](https://github.com/FrancescAlted/EuroPython2015/releases).  For thouse of you with problems with the Wifi, there are pendrives available.\n",
    "\n",
    "3. **In case** you cannot reproduce the desired results in your own laptop, do not worry too much; my advice is that you just concentrate in tutor's explanations and ask in case something is not clear enough."
   ]
  },
  {
   "cell_type": "markdown",
   "metadata": {},
   "source": [
    "##Requisites\n",
    "\n",
    "* IPython notebook (aka Jupyter)\n",
    "* NumPy\n",
    "* Pandas\n",
    "* numexpr\n",
    "* tables (aka pytables in Anaconda)\n",
    "* bcolz\n",
    "* ipython_memwatcher\n",
    "\n",
    "These are all in Anaconda (bar ipython_memwatcher) or in PyPI repo.\n",
    "\n",
    "###Optional\n",
    "\n",
    "* objgraph\n",
    "* graphviz\n",
    "* guppy\n",
    "\n",
    "These are not in Anaconda, but in PyPI.  In case you are using Python 3 (3.4 recommended) you may have some problems because some of the optional packages does not support Python 3 yet."
   ]
  },
  {
   "cell_type": "markdown",
   "metadata": {},
   "source": [
    "##Contents"
   ]
  },
  {
   "cell_type": "markdown",
   "metadata": {},
   "source": [
    "1. [Memory Profilers](1-Memory-Profilers.ipynb)\n",
    "2. [A Tale of a Reduction](2-A-Reduction-Tale.ipynb)\n",
    "3. [In-Memory Tables](3-In-Memory-Tables.ipynb)\n",
    "4. [On-Disk Tables](4-On-Disk-Tables.ipynb)"
   ]
  },
  {
   "cell_type": "code",
   "execution_count": null,
   "metadata": {
    "collapsed": true
   },
   "outputs": [],
   "source": []
  }
 ],
 "metadata": {
  "kernelspec": {
   "display_name": "Python 2",
   "language": "python",
   "name": "python2"
  },
  "language_info": {
   "codemirror_mode": {
    "name": "ipython",
    "version": 2
   },
   "file_extension": ".py",
   "mimetype": "text/x-python",
   "name": "python",
   "nbconvert_exporter": "python",
   "pygments_lexer": "ipython2",
   "version": "2.7.10"
  }
 },
 "nbformat": 4,
 "nbformat_minor": 0
}
